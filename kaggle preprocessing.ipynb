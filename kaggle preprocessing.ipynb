{
 "cells": [
  {
   "cell_type": "code",
   "execution_count": 1,
   "id": "5cb0011d",
   "metadata": {},
   "outputs": [],
   "source": [
    "import os\n",
    "import sys\n",
    "import subprocess\n",
    "import numpy as np\n",
    "# import glob\n",
    "import json\n",
    "import pandas as pd\n",
    "import shutil\n",
    "import librosa.display\n",
    "# from tqdm import tqdm"
   ]
  },
  {
   "cell_type": "code",
   "execution_count": 11,
   "id": "ec882b07",
   "metadata": {},
   "outputs": [],
   "source": [
    "# assigning directory path \n",
    "os.chdir('/home/abhijeet/Desktop/')"
   ]
  },
  {
   "cell_type": "code",
   "execution_count": 12,
   "id": "b7f8f01e",
   "metadata": {},
   "outputs": [
    {
     "name": "stdout",
     "output_type": "stream",
     "text": [
      "/home/abhijeet/Desktop/extracted/csvs\n"
     ]
    }
   ],
   "source": [
    "# creating sources for accesing path\n",
    "kaggle_path = 'kaggle_data'\n",
    "source_path = '/home/abhijeet/Desktop/coswaraData'\n",
    "data_path = '/home/abhijeet/Desktop/extracted'\n",
    "extracted_csvs_path= \"/home/abhijeet/Desktop/extracted/csvs\"\n",
    "print(extracted_csvs_path)"
   ]
  },
  {
   "cell_type": "code",
   "execution_count": 13,
   "id": "109b5831",
   "metadata": {},
   "outputs": [
    {
     "name": "stdout",
     "output_type": "stream",
     "text": [
      "total files : 2313\n",
      "path of file at loc [0] : /home/abhijeet/Desktop/extracted/20210630/iOx0zPyPiMZjCWXuf3RGu8HKq8k1/cough-heavy.wav\n",
      "id of file at loc[0] iOx0zPyPiMZjCWXuf3RGu8HKq8k1\n"
     ]
    },
    {
     "data": {
      "text/html": [
       "<div>\n",
       "<style scoped>\n",
       "    .dataframe tbody tr th:only-of-type {\n",
       "        vertical-align: middle;\n",
       "    }\n",
       "\n",
       "    .dataframe tbody tr th {\n",
       "        vertical-align: top;\n",
       "    }\n",
       "\n",
       "    .dataframe thead th {\n",
       "        text-align: right;\n",
       "    }\n",
       "</style>\n",
       "<table border=\"1\" class=\"dataframe\">\n",
       "  <thead>\n",
       "    <tr style=\"text-align: right;\">\n",
       "      <th></th>\n",
       "      <th>id</th>\n",
       "      <th>path</th>\n",
       "    </tr>\n",
       "  </thead>\n",
       "  <tbody>\n",
       "    <tr>\n",
       "      <th>0</th>\n",
       "      <td>iOx0zPyPiMZjCWXuf3RGu8HKq8k1</td>\n",
       "      <td>/home/abhijeet/Desktop/extracted/20210630/iOx0...</td>\n",
       "    </tr>\n",
       "    <tr>\n",
       "      <th>1</th>\n",
       "      <td>gFmySpqfQ7YrYqMrmrMPO7AzmBm1</td>\n",
       "      <td>/home/abhijeet/Desktop/extracted/20210630/gFmy...</td>\n",
       "    </tr>\n",
       "    <tr>\n",
       "      <th>2</th>\n",
       "      <td>padXEGczMRRKmLRVc68rEKI142B3</td>\n",
       "      <td>/home/abhijeet/Desktop/extracted/20210630/padX...</td>\n",
       "    </tr>\n",
       "    <tr>\n",
       "      <th>3</th>\n",
       "      <td>ymX9t6DWDHZTs28MODDSxDaOj4n2</td>\n",
       "      <td>/home/abhijeet/Desktop/extracted/20210630/ymX9...</td>\n",
       "    </tr>\n",
       "    <tr>\n",
       "      <th>4</th>\n",
       "      <td>loK2K444HrZUD8Plzr6q3i8y4Xg1</td>\n",
       "      <td>/home/abhijeet/Desktop/extracted/20210630/loK2...</td>\n",
       "    </tr>\n",
       "  </tbody>\n",
       "</table>\n",
       "</div>"
      ],
      "text/plain": [
       "                             id  \\\n",
       "0  iOx0zPyPiMZjCWXuf3RGu8HKq8k1   \n",
       "1  gFmySpqfQ7YrYqMrmrMPO7AzmBm1   \n",
       "2  padXEGczMRRKmLRVc68rEKI142B3   \n",
       "3  ymX9t6DWDHZTs28MODDSxDaOj4n2   \n",
       "4  loK2K444HrZUD8Plzr6q3i8y4Xg1   \n",
       "\n",
       "                                                path  \n",
       "0  /home/abhijeet/Desktop/extracted/20210630/iOx0...  \n",
       "1  /home/abhijeet/Desktop/extracted/20210630/gFmy...  \n",
       "2  /home/abhijeet/Desktop/extracted/20210630/padX...  \n",
       "3  /home/abhijeet/Desktop/extracted/20210630/ymX9...  \n",
       "4  /home/abhijeet/Desktop/extracted/20210630/loK2...  "
      ]
     },
     "execution_count": 13,
     "metadata": {},
     "output_type": "execute_result"
    }
   ],
   "source": [
    "# creating csv file from data depicting path and id of data\n",
    "hcough_files =[]\n",
    "for dirpath, subdirs, files in os.walk(data_path):\n",
    "    hcough_files.extend(os.path.join(dirpath, x) for x in files if (x.endswith(\"heavy.wav\") and os.path.isfile(os.path.join(dirpath, x))))\n",
    "print(\"total files :\" ,len(hcough_files)) \n",
    "print(\"path of file at loc [0] :\" ,hcough_files[0]) # path of file\n",
    "print(\"id of file at loc[0]\",hcough_files[0][-44:-16] )# id of each file\n",
    "\n",
    "dff = pd.DataFrame(columns=['id','path'])\n",
    "dff['path']=hcough_files \n",
    "dff['id'] = dff.path.apply(lambda x: x[-44:-16])\n",
    "dff.head()"
   ]
  },
  {
   "cell_type": "code",
   "execution_count": 17,
   "id": "8ffdaff8",
   "metadata": {},
   "outputs": [],
   "source": [
    "for i in range(0 ,2313):\n",
    "    try:\n",
    "        path = os.path.join(kaggle_path, hcough_files[i][-44:-16])\n",
    "        os.makedirs(path)\n",
    "        shutil.copyfile(hcough_files[i], (kaggle_path+ \"/\" + hcough_files[i][-44:-16] +\"/\"+ \"cough.wav\") )\n",
    "    except IsADirectoryError:\n",
    "        print(hcough_files[i])\n",
    "    "
   ]
  },
  {
   "cell_type": "code",
   "execution_count": null,
   "id": "f4d470aa",
   "metadata": {},
   "outputs": [],
   "source": []
  }
 ],
 "metadata": {
  "kernelspec": {
   "display_name": "Python 3 (ipykernel)",
   "language": "python",
   "name": "python3"
  },
  "language_info": {
   "codemirror_mode": {
    "name": "ipython",
    "version": 3
   },
   "file_extension": ".py",
   "mimetype": "text/x-python",
   "name": "python",
   "nbconvert_exporter": "python",
   "pygments_lexer": "ipython3",
   "version": "3.9.7"
  }
 },
 "nbformat": 4,
 "nbformat_minor": 5
}
