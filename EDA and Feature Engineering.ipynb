{
 "cells": [
  {
   "cell_type": "code",
   "execution_count": 1,
   "id": "51c66b4b",
   "metadata": {},
   "outputs": [
    {
     "name": "stderr",
     "output_type": "stream",
     "text": [
      "Matplotlib is building the font cache; this may take a moment.\n"
     ]
    }
   ],
   "source": [
    "import os\n",
    "import sys\n",
    "import subprocess\n",
    "import numpy as np\n",
    "import seaborn as sns\n",
    "import json\n",
    "import pandas as pd\n",
    "import shutil\n",
    "import librosa.display\n",
    "import matplotlib\n",
    "import matplotlib.pyplot as plt "
   ]
  },
  {
   "cell_type": "code",
   "execution_count": 14,
   "id": "900eea76",
   "metadata": {
    "scrolled": true
   },
   "outputs": [
    {
     "data": {
      "text/html": [
       "<div>\n",
       "<style scoped>\n",
       "    .dataframe tbody tr th:only-of-type {\n",
       "        vertical-align: middle;\n",
       "    }\n",
       "\n",
       "    .dataframe tbody tr th {\n",
       "        vertical-align: top;\n",
       "    }\n",
       "\n",
       "    .dataframe thead th {\n",
       "        text-align: right;\n",
       "    }\n",
       "</style>\n",
       "<table border=\"1\" class=\"dataframe\">\n",
       "  <thead>\n",
       "    <tr style=\"text-align: right;\">\n",
       "      <th></th>\n",
       "      <th>id</th>\n",
       "      <th>path</th>\n",
       "      <th>date</th>\n",
       "      <th>status</th>\n",
       "      <th>chroma_stft</th>\n",
       "      <th>rmse</th>\n",
       "      <th>spectral_centroid</th>\n",
       "      <th>spectral_bandwidth</th>\n",
       "      <th>rolloff</th>\n",
       "      <th>zero_crossing_rate</th>\n",
       "      <th>...</th>\n",
       "      <th>delta2_mfcc43</th>\n",
       "      <th>delta2_mfcc44</th>\n",
       "      <th>delta2_mfcc45</th>\n",
       "      <th>delta2_mfcc46</th>\n",
       "      <th>delta2_mfcc47</th>\n",
       "      <th>delta2_mfcc48</th>\n",
       "      <th>delta2_mfcc49</th>\n",
       "      <th>delta2_mfcc50</th>\n",
       "      <th>delta2_mfcc51</th>\n",
       "      <th>delta2_mfcc52</th>\n",
       "    </tr>\n",
       "  </thead>\n",
       "  <tbody>\n",
       "    <tr>\n",
       "      <th>0</th>\n",
       "      <td>iOx0zPyPiMZjCWXuf3RGu8HKq8k1</td>\n",
       "      <td>/home/abhijeet/Desktop/extracted/20210630/iOx0...</td>\n",
       "      <td>20210630</td>\n",
       "      <td>positive</td>\n",
       "      <td>0.571208</td>\n",
       "      <td>0.017260</td>\n",
       "      <td>1816.135002</td>\n",
       "      <td>1825.064974</td>\n",
       "      <td>3654.356836</td>\n",
       "      <td>0.329156</td>\n",
       "      <td>...</td>\n",
       "      <td>0.004345</td>\n",
       "      <td>-0.004861</td>\n",
       "      <td>0.000890</td>\n",
       "      <td>0.010749</td>\n",
       "      <td>-0.003898</td>\n",
       "      <td>-0.008286</td>\n",
       "      <td>-0.000035</td>\n",
       "      <td>0.005898</td>\n",
       "      <td>-0.020526</td>\n",
       "      <td>-0.017116</td>\n",
       "    </tr>\n",
       "    <tr>\n",
       "      <th>1</th>\n",
       "      <td>gFmySpqfQ7YrYqMrmrMPO7AzmBm1</td>\n",
       "      <td>/home/abhijeet/Desktop/extracted/20210630/gFmy...</td>\n",
       "      <td>20210628</td>\n",
       "      <td>positive</td>\n",
       "      <td>0.485491</td>\n",
       "      <td>0.055333</td>\n",
       "      <td>1803.227275</td>\n",
       "      <td>1514.007823</td>\n",
       "      <td>3375.087099</td>\n",
       "      <td>0.179753</td>\n",
       "      <td>...</td>\n",
       "      <td>0.037521</td>\n",
       "      <td>0.029859</td>\n",
       "      <td>-0.010931</td>\n",
       "      <td>-0.035267</td>\n",
       "      <td>-0.015948</td>\n",
       "      <td>-0.023493</td>\n",
       "      <td>-0.030032</td>\n",
       "      <td>-0.032335</td>\n",
       "      <td>-0.052866</td>\n",
       "      <td>-0.048199</td>\n",
       "    </tr>\n",
       "    <tr>\n",
       "      <th>2</th>\n",
       "      <td>padXEGczMRRKmLRVc68rEKI142B3</td>\n",
       "      <td>/home/abhijeet/Desktop/extracted/20210630/padX...</td>\n",
       "      <td>20210628</td>\n",
       "      <td>positive</td>\n",
       "      <td>0.575894</td>\n",
       "      <td>0.031052</td>\n",
       "      <td>2309.826271</td>\n",
       "      <td>1891.974883</td>\n",
       "      <td>4314.941977</td>\n",
       "      <td>0.260138</td>\n",
       "      <td>...</td>\n",
       "      <td>-0.003277</td>\n",
       "      <td>-0.015553</td>\n",
       "      <td>-0.021170</td>\n",
       "      <td>-0.024662</td>\n",
       "      <td>0.013740</td>\n",
       "      <td>0.014496</td>\n",
       "      <td>-0.011968</td>\n",
       "      <td>-0.038552</td>\n",
       "      <td>-0.050468</td>\n",
       "      <td>-0.041814</td>\n",
       "    </tr>\n",
       "    <tr>\n",
       "      <th>3</th>\n",
       "      <td>ymX9t6DWDHZTs28MODDSxDaOj4n2</td>\n",
       "      <td>/home/abhijeet/Desktop/extracted/20210630/ymX9...</td>\n",
       "      <td>20210628</td>\n",
       "      <td>positive</td>\n",
       "      <td>0.525386</td>\n",
       "      <td>0.044825</td>\n",
       "      <td>2033.952673</td>\n",
       "      <td>1637.164773</td>\n",
       "      <td>3715.567276</td>\n",
       "      <td>0.289644</td>\n",
       "      <td>...</td>\n",
       "      <td>0.003627</td>\n",
       "      <td>-0.000107</td>\n",
       "      <td>-0.019847</td>\n",
       "      <td>-0.022493</td>\n",
       "      <td>-0.009439</td>\n",
       "      <td>0.000225</td>\n",
       "      <td>-0.015788</td>\n",
       "      <td>-0.027721</td>\n",
       "      <td>-0.026349</td>\n",
       "      <td>-0.003966</td>\n",
       "    </tr>\n",
       "    <tr>\n",
       "      <th>4</th>\n",
       "      <td>loK2K444HrZUD8Plzr6q3i8y4Xg1</td>\n",
       "      <td>/home/abhijeet/Desktop/extracted/20210630/loK2...</td>\n",
       "      <td>20210628</td>\n",
       "      <td>positive</td>\n",
       "      <td>0.571209</td>\n",
       "      <td>0.041385</td>\n",
       "      <td>2294.375713</td>\n",
       "      <td>1698.955349</td>\n",
       "      <td>4093.764134</td>\n",
       "      <td>0.247430</td>\n",
       "      <td>...</td>\n",
       "      <td>-0.048322</td>\n",
       "      <td>-0.057545</td>\n",
       "      <td>-0.085102</td>\n",
       "      <td>-0.015867</td>\n",
       "      <td>-0.069085</td>\n",
       "      <td>-0.061387</td>\n",
       "      <td>-0.050960</td>\n",
       "      <td>-0.040289</td>\n",
       "      <td>-0.030106</td>\n",
       "      <td>-0.036003</td>\n",
       "    </tr>\n",
       "  </tbody>\n",
       "</table>\n",
       "<p>5 rows × 166 columns</p>\n",
       "</div>"
      ],
      "text/plain": [
       "                             id  \\\n",
       "0  iOx0zPyPiMZjCWXuf3RGu8HKq8k1   \n",
       "1  gFmySpqfQ7YrYqMrmrMPO7AzmBm1   \n",
       "2  padXEGczMRRKmLRVc68rEKI142B3   \n",
       "3  ymX9t6DWDHZTs28MODDSxDaOj4n2   \n",
       "4  loK2K444HrZUD8Plzr6q3i8y4Xg1   \n",
       "\n",
       "                                                path      date    status  \\\n",
       "0  /home/abhijeet/Desktop/extracted/20210630/iOx0...  20210630  positive   \n",
       "1  /home/abhijeet/Desktop/extracted/20210630/gFmy...  20210628  positive   \n",
       "2  /home/abhijeet/Desktop/extracted/20210630/padX...  20210628  positive   \n",
       "3  /home/abhijeet/Desktop/extracted/20210630/ymX9...  20210628  positive   \n",
       "4  /home/abhijeet/Desktop/extracted/20210630/loK2...  20210628  positive   \n",
       "\n",
       "   chroma_stft      rmse  spectral_centroid  spectral_bandwidth      rolloff  \\\n",
       "0     0.571208  0.017260        1816.135002         1825.064974  3654.356836   \n",
       "1     0.485491  0.055333        1803.227275         1514.007823  3375.087099   \n",
       "2     0.575894  0.031052        2309.826271         1891.974883  4314.941977   \n",
       "3     0.525386  0.044825        2033.952673         1637.164773  3715.567276   \n",
       "4     0.571209  0.041385        2294.375713         1698.955349  4093.764134   \n",
       "\n",
       "   zero_crossing_rate  ...  delta2_mfcc43  delta2_mfcc44  delta2_mfcc45  \\\n",
       "0            0.329156  ...       0.004345      -0.004861       0.000890   \n",
       "1            0.179753  ...       0.037521       0.029859      -0.010931   \n",
       "2            0.260138  ...      -0.003277      -0.015553      -0.021170   \n",
       "3            0.289644  ...       0.003627      -0.000107      -0.019847   \n",
       "4            0.247430  ...      -0.048322      -0.057545      -0.085102   \n",
       "\n",
       "   delta2_mfcc46  delta2_mfcc47  delta2_mfcc48  delta2_mfcc49  delta2_mfcc50  \\\n",
       "0       0.010749      -0.003898      -0.008286      -0.000035       0.005898   \n",
       "1      -0.035267      -0.015948      -0.023493      -0.030032      -0.032335   \n",
       "2      -0.024662       0.013740       0.014496      -0.011968      -0.038552   \n",
       "3      -0.022493      -0.009439       0.000225      -0.015788      -0.027721   \n",
       "4      -0.015867      -0.069085      -0.061387      -0.050960      -0.040289   \n",
       "\n",
       "   delta2_mfcc51  delta2_mfcc52  \n",
       "0      -0.020526      -0.017116  \n",
       "1      -0.052866      -0.048199  \n",
       "2      -0.050468      -0.041814  \n",
       "3      -0.026349      -0.003966  \n",
       "4      -0.030106      -0.036003  \n",
       "\n",
       "[5 rows x 166 columns]"
      ]
     },
     "execution_count": 14,
     "metadata": {},
     "output_type": "execute_result"
    }
   ],
   "source": [
    "# df = pd.read_csv(\"/home/abhijeet/Desktop/extracted/train2.csv\")\n",
    "df = pd.read_csv(\"/home/abhijeet/Desktop/train2_exp.csv\")\n",
    "\n",
    "df.head()"
   ]
  },
  {
   "cell_type": "code",
   "execution_count": 15,
   "id": "22a5e2d5",
   "metadata": {
    "scrolled": true
   },
   "outputs": [],
   "source": [
    "# sns.pairplot(df,hue = 'status')"
   ]
  },
  {
   "cell_type": "code",
   "execution_count": 5,
   "id": "adfda46e",
   "metadata": {
    "scrolled": true
   },
   "outputs": [
    {
     "data": {
      "text/plain": [
       "<AxesSubplot:xlabel='rmse', ylabel='zero_crossing_rate'>"
      ]
     },
     "execution_count": 5,
     "metadata": {},
     "output_type": "execute_result"
    },
    {
     "data": {
      "image/png": "[encoded data removed]",
      "text/plain": [
       "<Figure size 432x288 with 1 Axes>"
      ]
     },
     "metadata": {
      "needs_background": "light"
     },
     "output_type": "display_data"
    }
   ],
   "source": [
    "sns.barplot(data =df , x= 'rmse',y='zero_crossing_rate',hue='status')"
   ]
  },
  {
   "cell_type": "code",
   "execution_count": 16,
   "id": "c170e063",
   "metadata": {},
   "outputs": [
    {
     "data": {
      "text/html": [
       "<div>\n",
       "<style scoped>\n",
       "    .dataframe tbody tr th:only-of-type {\n",
       "        vertical-align: middle;\n",
       "    }\n",
       "\n",
       "    .dataframe tbody tr th {\n",
       "        vertical-align: top;\n",
       "    }\n",
       "\n",
       "    .dataframe thead tr th {\n",
       "        text-align: left;\n",
       "    }\n",
       "</style>\n",
       "<table border=\"1\" class=\"dataframe\">\n",
       "  <thead>\n",
       "    <tr>\n",
       "      <th></th>\n",
       "      <th colspan=\"2\" halign=\"left\">Missing</th>\n",
       "      <th colspan=\"2\" halign=\"left\">UNIQUE</th>\n",
       "    </tr>\n",
       "    <tr>\n",
       "      <th></th>\n",
       "      <th>Total</th>\n",
       "      <th>Percent</th>\n",
       "      <th>Total</th>\n",
       "      <th>Uniques</th>\n",
       "    </tr>\n",
       "  </thead>\n",
       "  <tbody>\n",
       "    <tr>\n",
       "      <th>id</th>\n",
       "      <td>0</td>\n",
       "      <td>0.0</td>\n",
       "      <td>2273</td>\n",
       "      <td>2273</td>\n",
       "    </tr>\n",
       "    <tr>\n",
       "      <th>delta1_mfcc43</th>\n",
       "      <td>0</td>\n",
       "      <td>0.0</td>\n",
       "      <td>2273</td>\n",
       "      <td>2219</td>\n",
       "    </tr>\n",
       "    <tr>\n",
       "      <th>delta1_mfcc45</th>\n",
       "      <td>0</td>\n",
       "      <td>0.0</td>\n",
       "      <td>2273</td>\n",
       "      <td>2219</td>\n",
       "    </tr>\n",
       "    <tr>\n",
       "      <th>delta1_mfcc46</th>\n",
       "      <td>0</td>\n",
       "      <td>0.0</td>\n",
       "      <td>2273</td>\n",
       "      <td>2221</td>\n",
       "    </tr>\n",
       "    <tr>\n",
       "      <th>delta1_mfcc47</th>\n",
       "      <td>0</td>\n",
       "      <td>0.0</td>\n",
       "      <td>2273</td>\n",
       "      <td>2218</td>\n",
       "    </tr>\n",
       "    <tr>\n",
       "      <th>...</th>\n",
       "      <td>...</td>\n",
       "      <td>...</td>\n",
       "      <td>...</td>\n",
       "      <td>...</td>\n",
       "    </tr>\n",
       "    <tr>\n",
       "      <th>mfcc47</th>\n",
       "      <td>0</td>\n",
       "      <td>0.0</td>\n",
       "      <td>2273</td>\n",
       "      <td>2228</td>\n",
       "    </tr>\n",
       "    <tr>\n",
       "      <th>mfcc48</th>\n",
       "      <td>0</td>\n",
       "      <td>0.0</td>\n",
       "      <td>2273</td>\n",
       "      <td>2228</td>\n",
       "    </tr>\n",
       "    <tr>\n",
       "      <th>mfcc49</th>\n",
       "      <td>0</td>\n",
       "      <td>0.0</td>\n",
       "      <td>2273</td>\n",
       "      <td>2228</td>\n",
       "    </tr>\n",
       "    <tr>\n",
       "      <th>mfcc50</th>\n",
       "      <td>0</td>\n",
       "      <td>0.0</td>\n",
       "      <td>2273</td>\n",
       "      <td>2228</td>\n",
       "    </tr>\n",
       "    <tr>\n",
       "      <th>delta2_mfcc52</th>\n",
       "      <td>0</td>\n",
       "      <td>0.0</td>\n",
       "      <td>2273</td>\n",
       "      <td>2210</td>\n",
       "    </tr>\n",
       "  </tbody>\n",
       "</table>\n",
       "<p>166 rows × 4 columns</p>\n",
       "</div>"
      ],
      "text/plain": [
       "              Missing         UNIQUE        \n",
       "                Total Percent  Total Uniques\n",
       "id                  0     0.0   2273    2273\n",
       "delta1_mfcc43       0     0.0   2273    2219\n",
       "delta1_mfcc45       0     0.0   2273    2219\n",
       "delta1_mfcc46       0     0.0   2273    2221\n",
       "delta1_mfcc47       0     0.0   2273    2218\n",
       "...               ...     ...    ...     ...\n",
       "mfcc47              0     0.0   2273    2228\n",
       "mfcc48              0     0.0   2273    2228\n",
       "mfcc49              0     0.0   2273    2228\n",
       "mfcc50              0     0.0   2273    2228\n",
       "delta2_mfcc52       0     0.0   2273    2210\n",
       "\n",
       "[166 rows x 4 columns]"
      ]
     },
     "execution_count": 16,
     "metadata": {},
     "output_type": "execute_result"
    }
   ],
   "source": [
    "def feature_count(data):\n",
    "    # missing values\n",
    "    total_missing = data.isnull().sum().sort_values(ascending = False)\n",
    "    percent_missing = (data.isnull().sum()/data.isnull().count()*100).sort_values(ascending = False)\n",
    "    missing = pd.concat([total_missing, percent_missing], axis=1, keys=['Total', 'Percent'])\n",
    "    \n",
    "    #unique values \n",
    "    total_data = data.count()\n",
    "    tt = pd.DataFrame(total_data)\n",
    "    tt.columns = ['Total']\n",
    "    uniques = []\n",
    "    for col in data.columns:\n",
    "        unique = data[col].nunique()\n",
    "        uniques.append(unique)\n",
    "    tt['Uniques'] = uniques\n",
    "    unique = tt \n",
    "    return pd.concat([missing, unique], axis=1, keys=['Missing', 'UNIQUE'])\n",
    "\n",
    "feature_count(df)"
   ]
  },
  {
   "cell_type": "markdown",
   "id": "51eb1216",
   "metadata": {},
   "source": [
    "### model"
   ]
  },
  {
   "cell_type": "code",
   "execution_count": 17,
   "id": "84ab99e0",
   "metadata": {},
   "outputs": [],
   "source": [
    "from sklearn.preprocessing import LabelEncoder, StandardScaler\n",
    "from sklearn.linear_model import LogisticRegression\n",
    "from sklearn.model_selection import train_test_split \n",
    "from sklearn.metrics import roc_auc_score,roc_curve ,accuracy_score \n",
    " "
   ]
  },
  {
   "cell_type": "code",
   "execution_count": 18,
   "id": "d2b2919f",
   "metadata": {},
   "outputs": [
    {
     "data": {
      "text/plain": [
       "(2273, 166)"
      ]
     },
     "execution_count": 18,
     "metadata": {},
     "output_type": "execute_result"
    }
   ],
   "source": [
    "df.shape"
   ]
  },
  {
   "cell_type": "code",
   "execution_count": 19,
   "id": "90ee515a",
   "metadata": {},
   "outputs": [],
   "source": [
    "X = df.drop(['path','id','date','status'],axis =1)\n",
    "y = df['status']"
   ]
  },
  {
   "cell_type": "code",
   "execution_count": 20,
   "id": "fef633c1",
   "metadata": {},
   "outputs": [],
   "source": [
    "encoder = LabelEncoder()\n",
    "# scaler = StandardScaler()\n",
    "y = encoder.fit_transform(y)\n",
    "# X = scaler.fit_transform(X)"
   ]
  },
  {
   "cell_type": "code",
   "execution_count": 21,
   "id": "99447154",
   "metadata": {},
   "outputs": [
    {
     "data": {
      "text/plain": [
       "(2273, 162)"
      ]
     },
     "execution_count": 21,
     "metadata": {},
     "output_type": "execute_result"
    }
   ],
   "source": [
    "X.shape"
   ]
  },
  {
   "cell_type": "code",
   "execution_count": 22,
   "id": "a49413a9",
   "metadata": {},
   "outputs": [],
   "source": [
    "X_train, X_test, y_train, y_test = train_test_split(X, y, test_size=0.20, random_state=42)"
   ]
  },
  {
   "cell_type": "code",
   "execution_count": 23,
   "id": "c1905cc7",
   "metadata": {},
   "outputs": [
    {
     "name": "stdout",
     "output_type": "stream",
     "text": [
      "X_train : (1818, 162)\n",
      "X_test : (455, 162)\n",
      "y_train : (1818,)\n",
      "y_test : (455,)\n"
     ]
    }
   ],
   "source": [
    "print(f\"X_train : {X_train.shape}\\nX_test : {X_test.shape}\\ny_train : {y_train.shape}\\ny_test : {y_test.shape}\")"
   ]
  },
  {
   "cell_type": "code",
   "execution_count": 24,
   "id": "967c420c",
   "metadata": {},
   "outputs": [
    {
     "data": {
      "text/plain": [
       "LogisticRegression(max_iter=10000, random_state=42)"
      ]
     },
     "execution_count": 24,
     "metadata": {},
     "output_type": "execute_result"
    }
   ],
   "source": [
    "model = LogisticRegression(random_state=42, max_iter= 10000)\n",
    "model.fit(X_train,y_train)"
   ]
  },
  {
   "cell_type": "code",
   "execution_count": 25,
   "id": "5c1b1432",
   "metadata": {},
   "outputs": [],
   "source": [
    "y_pred = model.predict(X_test)"
   ]
  },
  {
   "cell_type": "code",
   "execution_count": 26,
   "id": "2a58c32f",
   "metadata": {},
   "outputs": [
    {
     "data": {
      "text/plain": [
       "array([0, 0, 0, 1, 0, 1, 0, 0, 0, 0, 0, 0, 0, 0])"
      ]
     },
     "execution_count": 26,
     "metadata": {},
     "output_type": "execute_result"
    }
   ],
   "source": [
    "y_pred[12:26]"
   ]
  },
  {
   "cell_type": "code",
   "execution_count": 27,
   "id": "0f0c2610",
   "metadata": {},
   "outputs": [
    {
     "data": {
      "text/plain": [
       "0.612937595129376"
      ]
     },
     "execution_count": 27,
     "metadata": {},
     "output_type": "execute_result"
    }
   ],
   "source": [
    "roc_auc_score(y_test,y_pred)"
   ]
  },
  {
   "cell_type": "code",
   "execution_count": 28,
   "id": "6096dbba",
   "metadata": {},
   "outputs": [
    {
     "name": "stdout",
     "output_type": "stream",
     "text": [
      "Nothing: ROC AUC=0.500\n",
      "positive: ROC AUC=0.733\n"
     ]
    },
    {
     "data": {
      "image/png": "[encoded data removed]",
      "text/plain": [
       "<Figure size 432x288 with 1 Axes>"
      ]
     },
     "metadata": {
      "needs_background": "light"
     },
     "output_type": "display_data"
    }
   ],
   "source": [
    "ns_probs = [0 for _ in range(len(y_test))]\n",
    "\n",
    "# predict probabilities\n",
    "lr_probs = model.predict_proba(X_test)\n",
    "# keep probabilities for the positive outcome only\n",
    "lr_probs = lr_probs[:, 1]\n",
    "# calculate scores\n",
    "ns_auc = roc_auc_score(y_test, ns_probs)\n",
    "lr_auc = roc_auc_score(y_test, lr_probs)\n",
    "# summarize scores\n",
    "print('Nothing: ROC AUC=%.3f' % (ns_auc))\n",
    "print('positive: ROC AUC=%.3f' % (lr_auc))\n",
    "# calculate roc curves\n",
    "ns_fpr, ns_tpr, _ = roc_curve(y_test, ns_probs)\n",
    "lr_fpr, lr_tpr, _ = roc_curve(y_test, lr_probs)\n",
    "# plot the roc curve for the model\n",
    "plt.plot(ns_fpr, ns_tpr, linestyle='--', label='no skill')\n",
    "plt.plot(lr_fpr, lr_tpr, marker='.', label= 'positive')\n",
    "# axis labels\n",
    "plt.xlabel('False Positive Rate')\n",
    "plt.ylabel('True Positive Rate')\n",
    "# show the legend\n",
    "plt.legend()\n",
    "# show the plot\n",
    "plt.show()"
   ]
  },
  {
   "cell_type": "code",
   "execution_count": null,
   "id": "889d94f4",
   "metadata": {},
   "outputs": [],
   "source": []
  },
  {
   "cell_type": "code",
   "execution_count": null,
   "id": "dbc934c3",
   "metadata": {},
   "outputs": [],
   "source": []
  }
 ],
 "metadata": {
  "kernelspec": {
   "display_name": "Python 3 (ipykernel)",
   "language": "python",
   "name": "python3"
  },
  "language_info": {
   "codemirror_mode": {
    "name": "ipython",
    "version": 3
   },
   "file_extension": ".py",
   "mimetype": "text/x-python",
   "name": "python",
   "nbconvert_exporter": "python",
   "pygments_lexer": "ipython3",
   "version": "3.9.7"
  }
 },
 "nbformat": 4,
 "nbformat_minor": 5
}
